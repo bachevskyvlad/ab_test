{
 "cells": [
  {
   "cell_type": "code",
   "execution_count": 320,
   "id": "5f4948b1",
   "metadata": {},
   "outputs": [],
   "source": [
    "import numpy as np\n",
    "import pandas as pd\n",
    "from scipy.stats import mannwhitneyu\n",
    "from scipy.stats import ttest_ind\n",
    "from scipy.stats import norm\n",
    "import matplotlib.pyplot as plt\n",
    "import seaborn as sns"
   ]
  },
  {
   "cell_type": "code",
   "execution_count": 321,
   "id": "46acb4c7",
   "metadata": {},
   "outputs": [],
   "source": [
    "visitors = pd.read_csv(\"visitors.csv\")\n",
    "orders = pd.read_csv(\"orders.csv\")"
   ]
  },
  {
   "cell_type": "markdown",
   "id": "ef65b0ef",
   "metadata": {},
   "source": [
    "# Let's check the data for validity"
   ]
  },
  {
   "cell_type": "code",
   "execution_count": 322,
   "id": "ad912c8a",
   "metadata": {},
   "outputs": [
    {
     "data": {
      "text/html": [
       "<div>\n",
       "<style scoped>\n",
       "    .dataframe tbody tr th:only-of-type {\n",
       "        vertical-align: middle;\n",
       "    }\n",
       "\n",
       "    .dataframe tbody tr th {\n",
       "        vertical-align: top;\n",
       "    }\n",
       "\n",
       "    .dataframe thead th {\n",
       "        text-align: right;\n",
       "    }\n",
       "</style>\n",
       "<table border=\"1\" class=\"dataframe\">\n",
       "  <thead>\n",
       "    <tr style=\"text-align: right;\">\n",
       "      <th></th>\n",
       "      <th>date</th>\n",
       "      <th>group</th>\n",
       "      <th>visitors</th>\n",
       "    </tr>\n",
       "  </thead>\n",
       "  <tbody>\n",
       "    <tr>\n",
       "      <th>0</th>\n",
       "      <td>2019-08-01</td>\n",
       "      <td>A</td>\n",
       "      <td>719</td>\n",
       "    </tr>\n",
       "    <tr>\n",
       "      <th>1</th>\n",
       "      <td>2019-08-02</td>\n",
       "      <td>A</td>\n",
       "      <td>619</td>\n",
       "    </tr>\n",
       "    <tr>\n",
       "      <th>2</th>\n",
       "      <td>2019-08-03</td>\n",
       "      <td>A</td>\n",
       "      <td>507</td>\n",
       "    </tr>\n",
       "    <tr>\n",
       "      <th>3</th>\n",
       "      <td>2019-08-04</td>\n",
       "      <td>A</td>\n",
       "      <td>717</td>\n",
       "    </tr>\n",
       "    <tr>\n",
       "      <th>4</th>\n",
       "      <td>2019-08-05</td>\n",
       "      <td>A</td>\n",
       "      <td>756</td>\n",
       "    </tr>\n",
       "  </tbody>\n",
       "</table>\n",
       "</div>"
      ],
      "text/plain": [
       "         date group  visitors\n",
       "0  2019-08-01     A       719\n",
       "1  2019-08-02     A       619\n",
       "2  2019-08-03     A       507\n",
       "3  2019-08-04     A       717\n",
       "4  2019-08-05     A       756"
      ]
     },
     "execution_count": 322,
     "metadata": {},
     "output_type": "execute_result"
    }
   ],
   "source": [
    "visitors.head()"
   ]
  },
  {
   "cell_type": "code",
   "execution_count": 323,
   "id": "4163e98e",
   "metadata": {},
   "outputs": [
    {
     "name": "stdout",
     "output_type": "stream",
     "text": [
      "<class 'pandas.core.frame.DataFrame'>\n",
      "RangeIndex: 62 entries, 0 to 61\n",
      "Data columns (total 3 columns):\n",
      " #   Column    Non-Null Count  Dtype \n",
      "---  ------    --------------  ----- \n",
      " 0   date      62 non-null     object\n",
      " 1   group     62 non-null     object\n",
      " 2   visitors  62 non-null     int64 \n",
      "dtypes: int64(1), object(2)\n",
      "memory usage: 1.6+ KB\n"
     ]
    }
   ],
   "source": [
    "visitors.info()"
   ]
  },
  {
   "cell_type": "code",
   "execution_count": 324,
   "id": "362d4bca",
   "metadata": {},
   "outputs": [
    {
     "data": {
      "text/plain": [
       "date        0\n",
       "group       0\n",
       "visitors    0\n",
       "dtype: int64"
      ]
     },
     "execution_count": 324,
     "metadata": {},
     "output_type": "execute_result"
    }
   ],
   "source": [
    "visitors.isnull().sum()"
   ]
  },
  {
   "cell_type": "code",
   "execution_count": 325,
   "id": "225c90f5",
   "metadata": {},
   "outputs": [
    {
     "data": {
      "text/html": [
       "<div>\n",
       "<style scoped>\n",
       "    .dataframe tbody tr th:only-of-type {\n",
       "        vertical-align: middle;\n",
       "    }\n",
       "\n",
       "    .dataframe tbody tr th {\n",
       "        vertical-align: top;\n",
       "    }\n",
       "\n",
       "    .dataframe thead th {\n",
       "        text-align: right;\n",
       "    }\n",
       "</style>\n",
       "<table border=\"1\" class=\"dataframe\">\n",
       "  <thead>\n",
       "    <tr style=\"text-align: right;\">\n",
       "      <th></th>\n",
       "      <th>visitors</th>\n",
       "    </tr>\n",
       "  </thead>\n",
       "  <tbody>\n",
       "    <tr>\n",
       "      <th>count</th>\n",
       "      <td>62.000000</td>\n",
       "    </tr>\n",
       "    <tr>\n",
       "      <th>mean</th>\n",
       "      <td>607.290323</td>\n",
       "    </tr>\n",
       "    <tr>\n",
       "      <th>std</th>\n",
       "      <td>114.400560</td>\n",
       "    </tr>\n",
       "    <tr>\n",
       "      <th>min</th>\n",
       "      <td>361.000000</td>\n",
       "    </tr>\n",
       "    <tr>\n",
       "      <th>25%</th>\n",
       "      <td>534.000000</td>\n",
       "    </tr>\n",
       "    <tr>\n",
       "      <th>50%</th>\n",
       "      <td>624.500000</td>\n",
       "    </tr>\n",
       "    <tr>\n",
       "      <th>75%</th>\n",
       "      <td>710.500000</td>\n",
       "    </tr>\n",
       "    <tr>\n",
       "      <th>max</th>\n",
       "      <td>770.000000</td>\n",
       "    </tr>\n",
       "  </tbody>\n",
       "</table>\n",
       "</div>"
      ],
      "text/plain": [
       "         visitors\n",
       "count   62.000000\n",
       "mean   607.290323\n",
       "std    114.400560\n",
       "min    361.000000\n",
       "25%    534.000000\n",
       "50%    624.500000\n",
       "75%    710.500000\n",
       "max    770.000000"
      ]
     },
     "execution_count": 325,
     "metadata": {},
     "output_type": "execute_result"
    }
   ],
   "source": [
    "visitors.describe()"
   ]
  },
  {
   "cell_type": "code",
   "execution_count": 326,
   "id": "c4932362",
   "metadata": {},
   "outputs": [
    {
     "data": {
      "text/plain": [
       "group\n",
       "A    18736\n",
       "B    18916\n",
       "Name: visitors, dtype: int64"
      ]
     },
     "execution_count": 326,
     "metadata": {},
     "output_type": "execute_result"
    }
   ],
   "source": [
    "visitors.groupby(\"group\")['visitors'].sum().head()"
   ]
  },
  {
   "cell_type": "code",
   "execution_count": 327,
   "id": "b37c39f0",
   "metadata": {},
   "outputs": [
    {
     "data": {
      "text/html": [
       "<div>\n",
       "<style scoped>\n",
       "    .dataframe tbody tr th:only-of-type {\n",
       "        vertical-align: middle;\n",
       "    }\n",
       "\n",
       "    .dataframe tbody tr th {\n",
       "        vertical-align: top;\n",
       "    }\n",
       "\n",
       "    .dataframe thead th {\n",
       "        text-align: right;\n",
       "    }\n",
       "</style>\n",
       "<table border=\"1\" class=\"dataframe\">\n",
       "  <thead>\n",
       "    <tr style=\"text-align: right;\">\n",
       "      <th></th>\n",
       "      <th>min</th>\n",
       "      <th>max</th>\n",
       "    </tr>\n",
       "    <tr>\n",
       "      <th>group</th>\n",
       "      <th></th>\n",
       "      <th></th>\n",
       "    </tr>\n",
       "  </thead>\n",
       "  <tbody>\n",
       "    <tr>\n",
       "      <th>A</th>\n",
       "      <td>2019-08-01</td>\n",
       "      <td>2019-08-31</td>\n",
       "    </tr>\n",
       "    <tr>\n",
       "      <th>B</th>\n",
       "      <td>2019-08-01</td>\n",
       "      <td>2019-08-31</td>\n",
       "    </tr>\n",
       "  </tbody>\n",
       "</table>\n",
       "</div>"
      ],
      "text/plain": [
       "              min         max\n",
       "group                        \n",
       "A      2019-08-01  2019-08-31\n",
       "B      2019-08-01  2019-08-31"
      ]
     },
     "execution_count": 327,
     "metadata": {},
     "output_type": "execute_result"
    }
   ],
   "source": [
    "visitors.groupby('group')['date'].agg(['min', 'max'])"
   ]
  },
  {
   "cell_type": "code",
   "execution_count": null,
   "id": "cfcb5cff",
   "metadata": {},
   "outputs": [],
   "source": []
  },
  {
   "cell_type": "code",
   "execution_count": 328,
   "id": "1e9ac9f4",
   "metadata": {},
   "outputs": [
    {
     "name": "stdout",
     "output_type": "stream",
     "text": [
      "<class 'pandas.core.frame.DataFrame'>\n",
      "RangeIndex: 1197 entries, 0 to 1196\n",
      "Data columns (total 5 columns):\n",
      " #   Column         Non-Null Count  Dtype \n",
      "---  ------         --------------  ----- \n",
      " 0   transactionId  1197 non-null   int64 \n",
      " 1   visitorId      1197 non-null   int64 \n",
      " 2   date           1197 non-null   object\n",
      " 3   revenue        1197 non-null   int64 \n",
      " 4   group          1197 non-null   object\n",
      "dtypes: int64(3), object(2)\n",
      "memory usage: 46.9+ KB\n"
     ]
    }
   ],
   "source": [
    "orders.info()"
   ]
  },
  {
   "cell_type": "code",
   "execution_count": 329,
   "id": "6142433f",
   "metadata": {},
   "outputs": [
    {
     "data": {
      "text/plain": [
       "transactionId    0\n",
       "visitorId        0\n",
       "date             0\n",
       "revenue          0\n",
       "group            0\n",
       "dtype: int64"
      ]
     },
     "execution_count": 329,
     "metadata": {},
     "output_type": "execute_result"
    }
   ],
   "source": [
    "orders.isnull().sum()"
   ]
  },
  {
   "cell_type": "code",
   "execution_count": 330,
   "id": "e672bc18",
   "metadata": {},
   "outputs": [
    {
     "data": {
      "text/html": [
       "<div>\n",
       "<style scoped>\n",
       "    .dataframe tbody tr th:only-of-type {\n",
       "        vertical-align: middle;\n",
       "    }\n",
       "\n",
       "    .dataframe tbody tr th {\n",
       "        vertical-align: top;\n",
       "    }\n",
       "\n",
       "    .dataframe thead th {\n",
       "        text-align: right;\n",
       "    }\n",
       "</style>\n",
       "<table border=\"1\" class=\"dataframe\">\n",
       "  <thead>\n",
       "    <tr style=\"text-align: right;\">\n",
       "      <th></th>\n",
       "      <th>transactionId</th>\n",
       "      <th>visitorId</th>\n",
       "      <th>revenue</th>\n",
       "    </tr>\n",
       "  </thead>\n",
       "  <tbody>\n",
       "    <tr>\n",
       "      <th>count</th>\n",
       "      <td>1.197000e+03</td>\n",
       "      <td>1.197000e+03</td>\n",
       "      <td>1.197000e+03</td>\n",
       "    </tr>\n",
       "    <tr>\n",
       "      <th>mean</th>\n",
       "      <td>2.155621e+09</td>\n",
       "      <td>2.165960e+09</td>\n",
       "      <td>8.348006e+03</td>\n",
       "    </tr>\n",
       "    <tr>\n",
       "      <th>std</th>\n",
       "      <td>1.229085e+09</td>\n",
       "      <td>1.236014e+09</td>\n",
       "      <td>3.919113e+04</td>\n",
       "    </tr>\n",
       "    <tr>\n",
       "      <th>min</th>\n",
       "      <td>1.062393e+06</td>\n",
       "      <td>5.114589e+06</td>\n",
       "      <td>5.000000e+01</td>\n",
       "    </tr>\n",
       "    <tr>\n",
       "      <th>25%</th>\n",
       "      <td>1.166776e+09</td>\n",
       "      <td>1.111826e+09</td>\n",
       "      <td>1.220000e+03</td>\n",
       "    </tr>\n",
       "    <tr>\n",
       "      <th>50%</th>\n",
       "      <td>2.145194e+09</td>\n",
       "      <td>2.217985e+09</td>\n",
       "      <td>2.978000e+03</td>\n",
       "    </tr>\n",
       "    <tr>\n",
       "      <th>75%</th>\n",
       "      <td>3.237740e+09</td>\n",
       "      <td>3.177606e+09</td>\n",
       "      <td>8.290000e+03</td>\n",
       "    </tr>\n",
       "    <tr>\n",
       "      <th>max</th>\n",
       "      <td>4.293856e+09</td>\n",
       "      <td>4.283872e+09</td>\n",
       "      <td>1.294500e+06</td>\n",
       "    </tr>\n",
       "  </tbody>\n",
       "</table>\n",
       "</div>"
      ],
      "text/plain": [
       "       transactionId     visitorId       revenue\n",
       "count   1.197000e+03  1.197000e+03  1.197000e+03\n",
       "mean    2.155621e+09  2.165960e+09  8.348006e+03\n",
       "std     1.229085e+09  1.236014e+09  3.919113e+04\n",
       "min     1.062393e+06  5.114589e+06  5.000000e+01\n",
       "25%     1.166776e+09  1.111826e+09  1.220000e+03\n",
       "50%     2.145194e+09  2.217985e+09  2.978000e+03\n",
       "75%     3.237740e+09  3.177606e+09  8.290000e+03\n",
       "max     4.293856e+09  4.283872e+09  1.294500e+06"
      ]
     },
     "execution_count": 330,
     "metadata": {},
     "output_type": "execute_result"
    }
   ],
   "source": [
    "orders.describe()"
   ]
  },
  {
   "cell_type": "code",
   "execution_count": 331,
   "id": "d756112f",
   "metadata": {},
   "outputs": [
    {
     "data": {
      "text/html": [
       "<div>\n",
       "<style scoped>\n",
       "    .dataframe tbody tr th:only-of-type {\n",
       "        vertical-align: middle;\n",
       "    }\n",
       "\n",
       "    .dataframe tbody tr th {\n",
       "        vertical-align: top;\n",
       "    }\n",
       "\n",
       "    .dataframe thead th {\n",
       "        text-align: right;\n",
       "    }\n",
       "</style>\n",
       "<table border=\"1\" class=\"dataframe\">\n",
       "  <thead>\n",
       "    <tr style=\"text-align: right;\">\n",
       "      <th></th>\n",
       "      <th>transactionId</th>\n",
       "      <th>visitorId</th>\n",
       "      <th>date</th>\n",
       "      <th>revenue</th>\n",
       "      <th>group</th>\n",
       "    </tr>\n",
       "  </thead>\n",
       "  <tbody>\n",
       "    <tr>\n",
       "      <th>0</th>\n",
       "      <td>3667963787</td>\n",
       "      <td>3312258926</td>\n",
       "      <td>2019-08-15</td>\n",
       "      <td>1650</td>\n",
       "      <td>B</td>\n",
       "    </tr>\n",
       "    <tr>\n",
       "      <th>1</th>\n",
       "      <td>2804400009</td>\n",
       "      <td>3642806036</td>\n",
       "      <td>2019-08-15</td>\n",
       "      <td>730</td>\n",
       "      <td>B</td>\n",
       "    </tr>\n",
       "    <tr>\n",
       "      <th>2</th>\n",
       "      <td>2961555356</td>\n",
       "      <td>4069496402</td>\n",
       "      <td>2019-08-15</td>\n",
       "      <td>400</td>\n",
       "      <td>A</td>\n",
       "    </tr>\n",
       "    <tr>\n",
       "      <th>3</th>\n",
       "      <td>3797467345</td>\n",
       "      <td>1196621759</td>\n",
       "      <td>2019-08-15</td>\n",
       "      <td>9759</td>\n",
       "      <td>B</td>\n",
       "    </tr>\n",
       "    <tr>\n",
       "      <th>4</th>\n",
       "      <td>2282983706</td>\n",
       "      <td>2322279887</td>\n",
       "      <td>2019-08-15</td>\n",
       "      <td>2308</td>\n",
       "      <td>B</td>\n",
       "    </tr>\n",
       "  </tbody>\n",
       "</table>\n",
       "</div>"
      ],
      "text/plain": [
       "   transactionId   visitorId        date  revenue group\n",
       "0     3667963787  3312258926  2019-08-15     1650     B\n",
       "1     2804400009  3642806036  2019-08-15      730     B\n",
       "2     2961555356  4069496402  2019-08-15      400     A\n",
       "3     3797467345  1196621759  2019-08-15     9759     B\n",
       "4     2282983706  2322279887  2019-08-15     2308     B"
      ]
     },
     "execution_count": 331,
     "metadata": {},
     "output_type": "execute_result"
    }
   ],
   "source": [
    "orders.head()"
   ]
  },
  {
   "cell_type": "code",
   "execution_count": 332,
   "id": "0570fac9",
   "metadata": {},
   "outputs": [
    {
     "data": {
      "text/html": [
       "<div>\n",
       "<style scoped>\n",
       "    .dataframe tbody tr th:only-of-type {\n",
       "        vertical-align: middle;\n",
       "    }\n",
       "\n",
       "    .dataframe tbody tr th {\n",
       "        vertical-align: top;\n",
       "    }\n",
       "\n",
       "    .dataframe thead th {\n",
       "        text-align: right;\n",
       "    }\n",
       "</style>\n",
       "<table border=\"1\" class=\"dataframe\">\n",
       "  <thead>\n",
       "    <tr style=\"text-align: right;\">\n",
       "      <th></th>\n",
       "      <th>min</th>\n",
       "      <th>max</th>\n",
       "    </tr>\n",
       "    <tr>\n",
       "      <th>group</th>\n",
       "      <th></th>\n",
       "      <th></th>\n",
       "    </tr>\n",
       "  </thead>\n",
       "  <tbody>\n",
       "    <tr>\n",
       "      <th>A</th>\n",
       "      <td>2019-08-01</td>\n",
       "      <td>2019-08-31</td>\n",
       "    </tr>\n",
       "    <tr>\n",
       "      <th>B</th>\n",
       "      <td>2019-08-01</td>\n",
       "      <td>2019-08-31</td>\n",
       "    </tr>\n",
       "  </tbody>\n",
       "</table>\n",
       "</div>"
      ],
      "text/plain": [
       "              min         max\n",
       "group                        \n",
       "A      2019-08-01  2019-08-31\n",
       "B      2019-08-01  2019-08-31"
      ]
     },
     "execution_count": 332,
     "metadata": {},
     "output_type": "execute_result"
    }
   ],
   "source": [
    "orders.groupby('group')['date'].agg(['min', 'max'])"
   ]
  },
  {
   "cell_type": "code",
   "execution_count": 333,
   "id": "25e523e5",
   "metadata": {},
   "outputs": [
    {
     "data": {
      "text/plain": [
       "58"
      ]
     },
     "execution_count": 333,
     "metadata": {},
     "output_type": "execute_result"
    }
   ],
   "source": [
    "group_a_visitors = set(orders[orders['group'] == 'A']['visitorId'])\n",
    "\n",
    "group_b_visitors = set(orders[orders['group'] == 'B']['visitorId'])\n",
    "\n",
    "common_visitors = group_a_visitors.intersection(group_b_visitors)\n",
    "\n",
    "len(common_visitors)"
   ]
  },
  {
   "cell_type": "code",
   "execution_count": 334,
   "id": "1f2f9529",
   "metadata": {},
   "outputs": [
    {
     "data": {
      "text/plain": [
       "{8300375,\n",
       " 199603092,\n",
       " 232979603,\n",
       " 237748145,\n",
       " 276558944,\n",
       " 351125977,\n",
       " 393266494,\n",
       " 457167155,\n",
       " 471551937,\n",
       " 477780734,\n",
       " 818047933,\n",
       " 963407295,\n",
       " 1230306981,\n",
       " 1294878855,\n",
       " 1316129916,\n",
       " 1333886533,\n",
       " 1404934699,\n",
       " 1602967004,\n",
       " 1614305549,\n",
       " 1648269707,\n",
       " 1668030113,\n",
       " 1738359350,\n",
       " 1801183820,\n",
       " 1959144690,\n",
       " 2038680547,\n",
       " 2044997962,\n",
       " 2378935119,\n",
       " 2458001652,\n",
       " 2579882178,\n",
       " 2587333274,\n",
       " 2600415354,\n",
       " 2654030115,\n",
       " 2686716486,\n",
       " 2712142231,\n",
       " 2716752286,\n",
       " 2780786433,\n",
       " 2927087541,\n",
       " 2949041841,\n",
       " 2954449915,\n",
       " 3062433592,\n",
       " 3202540741,\n",
       " 3234906277,\n",
       " 3656415546,\n",
       " 3717692402,\n",
       " 3766097110,\n",
       " 3803269165,\n",
       " 3891541246,\n",
       " 3941795274,\n",
       " 3951559397,\n",
       " 3957174400,\n",
       " 3963646447,\n",
       " 3972127743,\n",
       " 3984495233,\n",
       " 4069496402,\n",
       " 4120364173,\n",
       " 4186807279,\n",
       " 4256040402,\n",
       " 4266935830}"
      ]
     },
     "execution_count": 334,
     "metadata": {},
     "output_type": "execute_result"
    }
   ],
   "source": [
    "common_visitors"
   ]
  },
  {
   "cell_type": "code",
   "execution_count": 335,
   "id": "01bea613",
   "metadata": {},
   "outputs": [
    {
     "data": {
      "text/html": [
       "<div>\n",
       "<style scoped>\n",
       "    .dataframe tbody tr th:only-of-type {\n",
       "        vertical-align: middle;\n",
       "    }\n",
       "\n",
       "    .dataframe tbody tr th {\n",
       "        vertical-align: top;\n",
       "    }\n",
       "\n",
       "    .dataframe thead th {\n",
       "        text-align: right;\n",
       "    }\n",
       "</style>\n",
       "<table border=\"1\" class=\"dataframe\">\n",
       "  <thead>\n",
       "    <tr style=\"text-align: right;\">\n",
       "      <th></th>\n",
       "      <th>transactionId</th>\n",
       "      <th>visitorId</th>\n",
       "      <th>date</th>\n",
       "      <th>revenue</th>\n",
       "      <th>group</th>\n",
       "    </tr>\n",
       "  </thead>\n",
       "  <tbody>\n",
       "    <tr>\n",
       "      <th>450</th>\n",
       "      <td>1750160666</td>\n",
       "      <td>1333886533</td>\n",
       "      <td>2019-08-06</td>\n",
       "      <td>1460</td>\n",
       "      <td>A</td>\n",
       "    </tr>\n",
       "    <tr>\n",
       "      <th>688</th>\n",
       "      <td>511953429</td>\n",
       "      <td>1333886533</td>\n",
       "      <td>2019-08-29</td>\n",
       "      <td>2950</td>\n",
       "      <td>B</td>\n",
       "    </tr>\n",
       "  </tbody>\n",
       "</table>\n",
       "</div>"
      ],
      "text/plain": [
       "     transactionId   visitorId        date  revenue group\n",
       "450     1750160666  1333886533  2019-08-06     1460     A\n",
       "688      511953429  1333886533  2019-08-29     2950     B"
      ]
     },
     "execution_count": 335,
     "metadata": {},
     "output_type": "execute_result"
    }
   ],
   "source": [
    "orders[orders['visitorId'] == 1333886533].head()"
   ]
  },
  {
   "cell_type": "code",
   "execution_count": 351,
   "id": "fb9131c9",
   "metadata": {},
   "outputs": [],
   "source": [
    "orders_clean = orders[~orders['visitorId'].isin(common_visitors)]"
   ]
  },
  {
   "cell_type": "code",
   "execution_count": 352,
   "id": "782e4546",
   "metadata": {},
   "outputs": [
    {
     "data": {
      "text/html": [
       "<div>\n",
       "<style scoped>\n",
       "    .dataframe tbody tr th:only-of-type {\n",
       "        vertical-align: middle;\n",
       "    }\n",
       "\n",
       "    .dataframe tbody tr th {\n",
       "        vertical-align: top;\n",
       "    }\n",
       "\n",
       "    .dataframe thead tr th {\n",
       "        text-align: left;\n",
       "    }\n",
       "\n",
       "    .dataframe thead tr:last-of-type th {\n",
       "        text-align: right;\n",
       "    }\n",
       "</style>\n",
       "<table border=\"1\" class=\"dataframe\">\n",
       "  <thead>\n",
       "    <tr>\n",
       "      <th></th>\n",
       "      <th>transactionId</th>\n",
       "      <th colspan=\"5\" halign=\"left\">revenue</th>\n",
       "    </tr>\n",
       "    <tr>\n",
       "      <th></th>\n",
       "      <th>nunique</th>\n",
       "      <th>sum</th>\n",
       "      <th>mean</th>\n",
       "      <th>median</th>\n",
       "      <th>min</th>\n",
       "      <th>max</th>\n",
       "    </tr>\n",
       "    <tr>\n",
       "      <th>group</th>\n",
       "      <th></th>\n",
       "      <th></th>\n",
       "      <th></th>\n",
       "      <th></th>\n",
       "      <th></th>\n",
       "      <th></th>\n",
       "    </tr>\n",
       "  </thead>\n",
       "  <tbody>\n",
       "    <tr>\n",
       "      <th>A</th>\n",
       "      <td>468</td>\n",
       "      <td>3364656</td>\n",
       "      <td>7189.435897</td>\n",
       "      <td>3090.0</td>\n",
       "      <td>50</td>\n",
       "      <td>92550</td>\n",
       "    </tr>\n",
       "    <tr>\n",
       "      <th>B</th>\n",
       "      <td>548</td>\n",
       "      <td>5068972</td>\n",
       "      <td>9249.948905</td>\n",
       "      <td>2898.5</td>\n",
       "      <td>50</td>\n",
       "      <td>1294500</td>\n",
       "    </tr>\n",
       "  </tbody>\n",
       "</table>\n",
       "</div>"
      ],
      "text/plain": [
       "      transactionId  revenue                                  \n",
       "            nunique      sum         mean  median min      max\n",
       "group                                                         \n",
       "A               468  3364656  7189.435897  3090.0  50    92550\n",
       "B               548  5068972  9249.948905  2898.5  50  1294500"
      ]
     },
     "execution_count": 352,
     "metadata": {},
     "output_type": "execute_result"
    }
   ],
   "source": [
    "orders_clean.groupby(\"group\").agg({\\\n",
    "    'transactionId': 'nunique',\\\n",
    "    'revenue': ['sum', 'mean', 'median', 'min', 'max']\n",
    "                            \n",
    "})"
   ]
  },
  {
   "cell_type": "code",
   "execution_count": 353,
   "id": "b8399296",
   "metadata": {},
   "outputs": [
    {
     "data": {
      "text/plain": [
       "0"
      ]
     },
     "execution_count": 353,
     "metadata": {},
     "output_type": "execute_result"
    }
   ],
   "source": [
    "duplicate_count = orders_clean.duplicated(subset=['transactionId']).sum()\n",
    "duplicate_count"
   ]
  },
  {
   "cell_type": "code",
   "execution_count": 354,
   "id": "d31dc707",
   "metadata": {},
   "outputs": [
    {
     "name": "stdout",
     "output_type": "stream",
     "text": [
      "Average amount of transactions per user in each group:\n",
      "group\n",
      "A    1.051685\n",
      "B    1.037879\n",
      "Name: transaction_count, dtype: float64\n"
     ]
    }
   ],
   "source": [
    "transactions_per_user = orders_clean.groupby(['visitorId', 'group']).size().reset_index(name='transaction_count')\n",
    "\n",
    "average_transactions_per_group = transactions_per_user.groupby('group')['transaction_count'].mean()\n",
    "\n",
    "print(\"Average amount of transactions per user in each group:\")\n",
    "print(average_transactions_per_group)\n"
   ]
  },
  {
   "cell_type": "markdown",
   "id": "794045ef",
   "metadata": {},
   "source": [
    "# Revenue data distribution"
   ]
  },
  {
   "cell_type": "code",
   "execution_count": 300,
   "id": "64000498",
   "metadata": {},
   "outputs": [
    {
     "data": {
      "text/plain": [
       "<AxesSubplot:xlabel='group', ylabel='revenue'>"
      ]
     },
     "execution_count": 300,
     "metadata": {},
     "output_type": "execute_result"
    },
    {
     "data": {
      "image/png": "[encoded data removed]",
      "text/plain": [
       "<Figure size 432x288 with 1 Axes>"
      ]
     },
     "metadata": {
      "needs_background": "light"
     },
     "output_type": "display_data"
    }
   ],
   "source": [
    "sns.boxplot(x=\"group\", y=\"revenue\", data=orders_clean)"
   ]
  },
  {
   "cell_type": "code",
   "execution_count": 301,
   "id": "a6a3980d",
   "metadata": {},
   "outputs": [
    {
     "data": {
      "text/plain": [
       "count    1.016000e+03\n",
       "mean     8.300815e+03\n",
       "std      4.212199e+04\n",
       "min      5.000000e+01\n",
       "25%      1.190000e+03\n",
       "50%      2.955000e+03\n",
       "75%      8.134250e+03\n",
       "max      1.294500e+06\n",
       "Name: revenue, dtype: float64"
      ]
     },
     "execution_count": 301,
     "metadata": {},
     "output_type": "execute_result"
    }
   ],
   "source": [
    "orders_clean['revenue'].describe()"
   ]
  },
  {
   "cell_type": "code",
   "execution_count": 337,
   "id": "874f05f1",
   "metadata": {},
   "outputs": [],
   "source": [
    "Q1 = orders_clean['revenue'].quantile(0.25)\n",
    "Q3 = orders_clean['revenue'].quantile(0.75)\n",
    "\n",
    "IQR = Q3 - Q1\n",
    "\n",
    "lower_bound = Q1 - 1.5 * IQR\n",
    "upper_bound = Q3 + 1.5 * IQR\n",
    "\n",
    "filtered_data = orders_clean[(orders_clean['revenue'] > lower_bound) & (orders_clean['revenue'] < upper_bound)]"
   ]
  },
  {
   "cell_type": "code",
   "execution_count": 338,
   "id": "23a8fe40",
   "metadata": {},
   "outputs": [
    {
     "data": {
      "text/plain": [
       "count      924.000000\n",
       "mean      4300.714286\n",
       "std       4495.797721\n",
       "min         50.000000\n",
       "25%       1090.000000\n",
       "50%       2550.000000\n",
       "75%       5847.500000\n",
       "max      18464.000000\n",
       "Name: revenue, dtype: float64"
      ]
     },
     "execution_count": 338,
     "metadata": {},
     "output_type": "execute_result"
    }
   ],
   "source": [
    "filtered_data['revenue'].describe()"
   ]
  },
  {
   "cell_type": "code",
   "execution_count": 339,
   "id": "c2452a6e",
   "metadata": {},
   "outputs": [
    {
     "data": {
      "text/plain": [
       "<AxesSubplot:xlabel='group', ylabel='revenue'>"
      ]
     },
     "execution_count": 339,
     "metadata": {},
     "output_type": "execute_result"
    },
    {
     "data": {
      "image/png": "[encoded data removed]",
      "text/plain": [
       "<Figure size 432x288 with 1 Axes>"
      ]
     },
     "metadata": {
      "needs_background": "light"
     },
     "output_type": "display_data"
    }
   ],
   "source": [
    "sns.boxplot(x=\"group\", y=\"revenue\", data=filtered_data)"
   ]
  },
  {
   "cell_type": "markdown",
   "id": "db304099",
   "metadata": {},
   "source": [
    "# Let's compare the samples by revenue"
   ]
  },
  {
   "cell_type": "markdown",
   "id": "9afae2da",
   "metadata": {},
   "source": [
    "Firstly let's compare the original dataframe, that contain outliers."
   ]
  },
  {
   "cell_type": "code",
   "execution_count": 340,
   "id": "3782bc38",
   "metadata": {},
   "outputs": [
    {
     "name": "stdout",
     "output_type": "stream",
     "text": [
      "Test statistic: 129236.5\n",
      "p-значение: 0.8294908998149533\n",
      "There is no basis to reject the null hypothesis: there is no statistically significant difference between the groups.\n"
     ]
    }
   ],
   "source": [
    "from scipy.stats import mannwhitneyu\n",
    "\n",
    "group_A_revenue = orders_clean[orders_clean['group'] == 'A']['revenue']\n",
    "group_B_revenue = orders_clean[orders_clean['group'] == 'B']['revenue']\n",
    "\n",
    "statistic, p_value = mannwhitneyu(group_A_revenue, group_B_revenue)\n",
    "\n",
    "print(\"Test statistic:\", statistic)\n",
    "print(\"p-значение:\", p_value)\n",
    "\n",
    "alpha = 0.05\n",
    "if p_value < alpha:\n",
    "    print(\"We reject the null hypothesis: there is a statistically significant difference between the conversion rates\")\n",
    "else:\n",
    "    print(\"There is no basis to reject the null hypothesis: there is no statistically significant difference between the groups.\")\n"
   ]
  },
  {
   "cell_type": "markdown",
   "id": "809c531c",
   "metadata": {},
   "source": [
    "Secondly  let's compare the dataframe, that does not contain outliers."
   ]
  },
  {
   "cell_type": "code",
   "execution_count": 341,
   "id": "ff5ae47a",
   "metadata": {},
   "outputs": [
    {
     "name": "stdout",
     "output_type": "stream",
     "text": [
      "Test statistic: 107253.0\n",
      "p-value: 0.7707224631844923\n",
      "There is no basis to reject the null hypothesis: there is no statistically significant difference between the groups.\n"
     ]
    }
   ],
   "source": [
    "group_A_revenue = filtered_data[filtered_data['group'] == 'A']['revenue']\n",
    "group_B_revenue = filtered_data[filtered_data['group'] == 'B']['revenue']\n",
    "\n",
    "statistic, p_value = mannwhitneyu(group_A_revenue, group_B_revenue)\n",
    "\n",
    "print(\"Test statistic:\", statistic)\n",
    "print(\"p-value:\", p_value)\n",
    "\n",
    "alpha = 0.05\n",
    "if p_value < alpha:\n",
    "    print(\"We reject the null hypothesis: there is a statistically significant difference between the conversion rates\")\n",
    "else:\n",
    "    print(\"There is no basis to reject the null hypothesis: there is no statistically significant difference between the groups.\")\n"
   ]
  },
  {
   "cell_type": "code",
   "execution_count": 342,
   "id": "77324dd0",
   "metadata": {},
   "outputs": [
    {
     "name": "stdout",
     "output_type": "stream",
     "text": [
      "There is no statistically significant difference between Group B and Group A.\n",
      "1.0\n"
     ]
    }
   ],
   "source": [
    "# Separate the revenue data for each group\n",
    "revenue_group_a = orders_clean[orders_clean['group'] == 'A']['revenue']\n",
    "revenue_group_b = orders_clean[orders_clean['group'] == 'B']['revenue']\n",
    "\n",
    "# Define a function for bootstrapping\n",
    "def bootstrap(data, n_bootstraps=1000):\n",
    "    \"\"\"Function to perform bootstrapping.\"\"\"\n",
    "    bootstrapped_means = []\n",
    "    for _ in range(n_bootstraps):\n",
    "        sample = np.random.choice(data, size=len(data), replace=True)\n",
    "        bootstrapped_means.append(sample.mean())\n",
    "    return bootstrapped_means\n",
    "\n",
    "# Get the bootstrapped means for both groups\n",
    "bootstrapped_means_a = bootstrap(revenue_group_a)\n",
    "bootstrapped_means_b = bootstrap(revenue_group_b)\n",
    "\n",
    "# Calculate the difference in means between the two groups\n",
    "mean_difference = np.mean(bootstrapped_means_b) - np.mean(bootstrapped_means_a)\n",
    "\n",
    "# Calculate the p-value\n",
    "combined_means = bootstrapped_means_a + bootstrapped_means_b\n",
    "observed_difference = np.mean(bootstrapped_means_b) - np.mean(bootstrapped_means_a)\n",
    "num_samples = len(combined_means)\n",
    "\n",
    "# Calculate the proportion of differences greater than or equal to the observed difference\n",
    "p_value = np.sum(combined_means >= observed_difference) / num_samples\n",
    "\n",
    "# Print the results\n",
    "if p_value < 0.05:\n",
    "    print(\"There is a statistically significant difference between Group B and Group A.\")\n",
    "    print(p_value)\n",
    "else:\n",
    "    print(\"There is no statistically significant difference between Group B and Group A.\")\n",
    "    print(p_value)\n",
    "\n"
   ]
  },
  {
   "cell_type": "code",
   "execution_count": 343,
   "id": "5a4aa1dc",
   "metadata": {},
   "outputs": [
    {
     "name": "stderr",
     "output_type": "stream",
     "text": [
      "No handles with labels found to put in legend.\n"
     ]
    },
    {
     "data": {
      "image/png": "[encoded data removed]",
      "text/plain": [
       "<Figure size 720x432 with 1 Axes>"
      ]
     },
     "metadata": {
      "needs_background": "light"
     },
     "output_type": "display_data"
    }
   ],
   "source": [
    "# Combine bootstrapped means and group labels into a DataFrame\n",
    "bootstrapped_data = pd.DataFrame({\n",
    "    'Bootstrapped Means': bootstrapped_means_a + bootstrapped_means_b,\n",
    "    'Group': ['Group A'] * len(bootstrapped_means_a) + ['Group B'] * len(bootstrapped_means_b)\n",
    "})\n",
    "\n",
    "# Plot the distribution of bootstrapped means for both groups using seaborn\n",
    "plt.figure(figsize=(10, 6))\n",
    "sns.histplot(data=bootstrapped_data, x='Bootstrapped Means', hue='Group', bins=30, kde=True)\n",
    "plt.title('Distribution of Bootstrapped Means for Group A and Group B')\n",
    "plt.xlabel('Bootstrapped Means')\n",
    "plt.ylabel('Frequency')\n",
    "plt.legend(title='Group')\n",
    "plt.grid(True)\n",
    "plt.show()\n"
   ]
  },
  {
   "cell_type": "markdown",
   "id": "811877d9",
   "metadata": {},
   "source": [
    "# Let's compare the conversion rates"
   ]
  },
  {
   "cell_type": "code",
   "execution_count": 344,
   "id": "f969833c",
   "metadata": {},
   "outputs": [
    {
     "data": {
      "image/png": "[encoded data removed]",
      "text/plain": [
       "<Figure size 720x432 with 1 Axes>"
      ]
     },
     "metadata": {
      "needs_background": "light"
     },
     "output_type": "display_data"
    }
   ],
   "source": [
    "group_A = visitors[visitors['group'] == 'A']\n",
    "group_B = visitors[visitors['group'] == 'B']\n",
    "\n",
    "group_A = group_A.sort_values(by='date')\n",
    "group_B = group_B.sort_values(by='date')\n",
    "\n",
    "plt.figure(figsize=(10, 6))\n",
    "plt.plot(group_A['date'], group_A['visitors'], label='Group A Visitors', marker='o', color='blue')\n",
    "plt.plot(group_B['date'], group_B['visitors'], label='Group B Visitors', marker='o', color='orange')\n",
    "\n",
    "plt.title('Traffic by Day')\n",
    "plt.xlabel('Date')\n",
    "plt.ylabel('Number of Visitors')\n",
    "plt.xticks(rotation=45)\n",
    "plt.legend()\n",
    "plt.grid(True)\n",
    "plt.tight_layout()\n",
    "plt.show()\n"
   ]
  },
  {
   "cell_type": "code",
   "execution_count": 345,
   "id": "922bf1fc",
   "metadata": {},
   "outputs": [
    {
     "data": {
      "image/png": "[encoded data removed]",
      "text/plain": [
       "<Figure size 1296x648 with 1 Axes>"
      ]
     },
     "metadata": {
      "needs_background": "light"
     },
     "output_type": "display_data"
    }
   ],
   "source": [
    "data = pd.merge(orders_clean, visitors, on=['date', 'group'])\n",
    "\n",
    "data['conversion'] = data['transactionId'].notnull().astype(int) / data['visitors']\n",
    "\n",
    "group_A = data[data['group'] == 'A']\n",
    "group_B = data[data['group'] == 'B']\n",
    "\n",
    "group_A = group_A.sort_values(by='date')\n",
    "group_B = group_B.sort_values(by='date')\n",
    "\n",
    "plt.figure(figsize=(18, 9))\n",
    "plt.plot(group_A['date'], group_A['conversion'], label='Group A', marker='o')\n",
    "plt.plot(group_B['date'], group_B['conversion'], label='Group B', marker='o')\n",
    "plt.title('Conversion Rate by Day')\n",
    "plt.xlabel('Date')\n",
    "plt.ylabel('Conversion Rate')\n",
    "plt.xticks(rotation=45)\n",
    "plt.legend()\n",
    "plt.grid(False)\n",
    "plt.tight_layout()\n",
    "plt.show()\n"
   ]
  },
  {
   "cell_type": "code",
   "execution_count": 346,
   "id": "b1a5da31",
   "metadata": {},
   "outputs": [
    {
     "name": "stdout",
     "output_type": "stream",
     "text": [
      "Conversion in group A: 2.497865072587532\n",
      "Conversion in group B: 2.897018397124128\n",
      "Diffrence between B и A: 0.3991533245365959\n"
     ]
    }
   ],
   "source": [
    "total_visitors_A = visitors[visitors['group'] == 'A']['visitors'].sum()\n",
    "total_visitors_B = visitors[visitors['group'] == 'B']['visitors'].sum()\n",
    "\n",
    "total_orders_A = orders_clean[orders_clean['group'] == 'A']['transactionId'].nunique()\n",
    "total_orders_B = orders_clean[orders_clean['group'] == 'B']['transactionId'].nunique()\n",
    "\n",
    "conversion_A = total_orders_A / total_visitors_A * 100\n",
    "conversion_B = total_orders_B / total_visitors_B * 100\n",
    "\n",
    "conversion_difference = conversion_B - conversion_A\n",
    "\n",
    "print(\"Conversion in group A:\", conversion_A)\n",
    "print(\"Conversion in group B:\", conversion_B)\n",
    "print(\"Diffrence between B и A:\", conversion_difference)\n"
   ]
  },
  {
   "cell_type": "code",
   "execution_count": 347,
   "id": "19b4b503",
   "metadata": {},
   "outputs": [
    {
     "name": "stdout",
     "output_type": "stream",
     "text": [
      "Z-statistic: -2.3899344431697442\n",
      "p-value: 0.01685138043470311\n",
      "We reject the null hypothesis: there is a statistically significant difference between the conversion rates\n"
     ]
    }
   ],
   "source": [
    "from statsmodels.stats.proportion import proportions_ztest\n",
    "\n",
    "visitors_A = visitors[visitors['group'] == 'A']['visitors'].sum()\n",
    "orders_A = orders_clean[orders_clean['group'] == 'A']['transactionId'].nunique()\n",
    "\n",
    "visitors_B = visitors[visitors['group'] == 'B']['visitors'].sum()\n",
    "orders_B = orders_clean[orders_clean['group'] == 'B']['transactionId'].nunique()\n",
    "\n",
    "z_stat, p_value = proportions_ztest([orders_A, orders_B], [visitors_A, visitors_B])\n",
    "\n",
    "print(\"Z-statistic:\", z_stat)\n",
    "print(\"p-value:\", p_value)\n",
    "\n",
    "alpha = 0.05\n",
    "if p_value < alpha:\n",
    "    print(\"We reject the null hypothesis: there is a statistically significant difference between the conversion rates\")\n",
    "else:\n",
    "    print(\"There is no basis to reject the null hypothesis: there is no statistically significant difference between the groups.\")\n"
   ]
  },
  {
   "cell_type": "code",
   "execution_count": 348,
   "id": "c964d2de",
   "metadata": {},
   "outputs": [
    {
     "name": "stdout",
     "output_type": "stream",
     "text": [
      "We reject the null hypothesis: there is a statistically significant difference between the conversion rates\n",
      "p-value: 0.0\n"
     ]
    }
   ],
   "source": [
    "visitors_A_sum = visitors[visitors['group'] == 'A']['visitors'].sum()\n",
    "orders_A_sum = orders_clean[orders_clean['group'] == 'A']['transactionId'].nunique()\n",
    "\n",
    "visitors_B_sum = visitors[visitors['group'] == 'B']['visitors'].sum()\n",
    "orders_B_sum = orders_clean[orders_clean['group'] == 'B']['transactionId'].nunique()\n",
    "\n",
    "conversion_rate_A = orders_A_sum / visitors_A_sum\n",
    "conversion_rate_B = orders_B_sum / visitors_B_sum\n",
    "\n",
    "t_statistic, p_value = stats.ttest_ind([conversion_rate_A] * visitors_A_sum, [conversion_rate_B] * visitors_B_sum)\n",
    "\n",
    "alpha = 0.05\n",
    "if p_value < alpha:\n",
    "    print(\"We reject the null hypothesis: there is a statistically significant difference between the conversion rates\")\n",
    "else:\n",
    "    print(\"There is no basis to reject the null hypothesis: there is no statistically significant difference between the groups.\")\n",
    "\n",
    "print(\"p-value:\",p_value)\n"
   ]
  },
  {
   "cell_type": "code",
   "execution_count": null,
   "id": "8ab39302",
   "metadata": {},
   "outputs": [],
   "source": []
  }
 ],
 "metadata": {
  "kernelspec": {
   "display_name": "Python 3 (ipykernel)",
   "language": "python",
   "name": "python3"
  },
  "language_info": {
   "codemirror_mode": {
    "name": "ipython",
    "version": 3
   },
   "file_extension": ".py",
   "mimetype": "text/x-python",
   "name": "python",
   "nbconvert_exporter": "python",
   "pygments_lexer": "ipython3",
   "version": "3.9.7"
  }
 },
 "nbformat": 4,
 "nbformat_minor": 5
}
